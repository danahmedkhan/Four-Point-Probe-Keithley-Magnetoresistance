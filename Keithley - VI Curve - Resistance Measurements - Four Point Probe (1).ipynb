{
 "cells": [
  {
   "cell_type": "code",
   "execution_count": 10,
   "metadata": {},
   "outputs": [],
   "source": [
    "#In order to know the specific GPIB Instrument number for Keithley the code below is run and used:\n",
    "import numpy as np\n",
    "import pandas as pd\n",
    "import pyvisa\n",
    "import paramiko as pmk\n",
    "rm = pyvisa.ResourceManager()\n",
    "#rm.list_resources()\n",
    "from pymeasure.instruments.keithley import Keithley2400 #Keithley class is 2400\n",
    "# Next we import all necessary packages required for this experiment\n",
    "\n",
    "import matplotlib.pyplot as plt\n",
    "from scipy.optimize import curve_fit\n",
    "from time import sleep"
   ]
  },
  {
   "cell_type": "code",
   "execution_count": 11,
   "metadata": {},
   "outputs": [],
   "source": [
    "Keithley = Keithley2400('GPIB0::24::INSTR')  \n",
    "data_points = 25\n",
    "averages = 50\n",
    "max_current = 1e-3\n",
    "min_current = 0.00\n",
    "t = 20e-9 #thickness of the film"
   ]
  },
  {
   "cell_type": "code",
   "execution_count": 12,
   "metadata": {},
   "outputs": [],
   "source": [
    "def line(currents, A, B):\n",
    "    y = A*currents + B\n",
    "    return y"
   ]
  },
  {
   "cell_type": "code",
   "execution_count": 13,
   "metadata": {},
   "outputs": [],
   "source": [
    "#set RPi connection with PC through SSh  \n",
    "ssh = pmk.SSHClient()\n",
    "ssh.set_missing_host_key_policy(pmk.AutoAddPolicy())\n",
    "piIP = \"131.247.209.135\"\n",
    "ssh.connect(piIP,username = 'pi',password = 'AngMo->2021')"
   ]
  },
  {
   "cell_type": "code",
   "execution_count": 14,
   "metadata": {},
   "outputs": [],
   "source": [
    "import time\n",
    "LIA=rm.open_resource('GPIB0::13::INSTR')\n",
    "LIA.write('AUXV 1,8 ') # set the voltage of power supply (KEPCO) #voltage and saturate the magnet\n",
    "time.sleep(5.0)\n",
    "LIA.write('APHS')#The  APHS  command  performs  the  Auto  Phase  function.This  commandis the same as pressing the [Auto Phase] key\n",
    "LIA.write('AUXV 1, 8.0')#saturate the magnet\n",
    "time.sleep(1)"
   ]
  },
  {
   "cell_type": "code",
   "execution_count": 15,
   "metadata": {},
   "outputs": [],
   "source": [
    "loads = np.arange(-8,10,2) #setting the range and step of field"
   ]
  },
  {
   "cell_type": "code",
   "execution_count": 16,
   "metadata": {},
   "outputs": [
    {
     "name": "stdout",
     "output_type": "stream",
     "text": [
      "-0.0339916344871\n",
      "\n",
      "-0.0303891293274\n",
      "\n",
      "-0.0241759404154\n",
      "\n",
      "-0.0158950661296\n",
      "\n",
      "-0.00772624858931\n",
      "\n",
      "0.000634495930016\n",
      "\n",
      "0.00881523440066\n",
      "\n",
      "0.0152835312228\n",
      "\n",
      "0.0186941094034\n",
      "\n"
     ]
    }
   ],
   "source": [
    "Hall_Pi_Voltage_list = []\n",
    "Sheet_Resistance_List = []\n",
    "for i in loads:\n",
    "    LIA.write('AUXV 1 ,%.2f'%i)\n",
    "    time.sleep(1)\n",
    "    LIA.write('STRT')#this starts the data collection for the LIA \n",
    "    stdin,stdout,stderr = ssh.exec_command(\"cd Hallpi && python Hallpifinal.py\")\n",
    "\n",
    "    ID_Read = stdout.readline()\n",
    "    #this line will read the first print in the python script (Hallpifinal) which reads ADS1256 reads sucess \n",
    "    Hall_voltage = stdout.readline()\n",
    "    print(Hall_voltage)\n",
    "    #this line will read the second print for Hall_voltage in the python script\n",
    "    #Gaussmeter_voltage = stdout.readline()\n",
    "    #this line will read the third print for Gaussmeter_voltage when (we will use it when we want to cal. the magnet) in the python script\n",
    "    #measuring the MOKE signals from LIA\n",
    "    #######################################\n",
    "    MOKE_string=LIA.query('SNAP? 1,2')#this collects the data from X and Y from the LIA and returns it as a string\n",
    "                    #X = MOKE signal, Y = background    \n",
    "    MOKE_data = MOKE_string.split(',')#this splits the string up accordingly to get the values into an array\n",
    "\n",
    "    #measuring the magneting voltage from Hall_pi\n",
    "    ###############################################\n",
    "    #Field (V)=Hall_voltage*Slpoe from magnet calibration\n",
    "\n",
    "    temp = {\"LIA_Voltage (V)\": i,'Field  (V)':float(Hall_voltage)*float(5.44691536e+00),'Hall Pi Voltage (V)':float(Hall_voltage), 'MOKE Signal':float(MOKE_data[0]),'MOKE BCKGD':float(MOKE_data[1]),}\n",
    "    #mydata = mydata.append(temp, #We build the results dataframe row by row by adding the temp array for every for loop/voltage\n",
    "    #ignore_index =True)\n",
    "    \n",
    "\n",
    "# Set the input parameters\n",
    "\n",
    "    \n",
    "# Connect and configure the instrument\n",
    "\n",
    "    Keithley.reset() #This command helps in resetting the Keithley for measurement and starts reading from zero.\n",
    "\n",
    "#Since Kiethley has terminals both at the back and front, we must define what terminals are being used.\n",
    "    Keithley.use_front_terminals()\n",
    "    Keithley.measure_voltage() #Configures the measurement of voltage\n",
    "    Keithley.apply_current() #Configures the instrument to apply a source current\n",
    "    Keithley.source_current = min_current  # Sets the source current to min current mA\n",
    "    Keithley.enable_source() # A boolean property that controls whether the source is enabled, takes values True or False.\n",
    "\n",
    "#Keithley.config_buffer(averages) - this command is not necessary\n",
    "\n",
    "    sleep(0.1) # wait here to give the instrument time to react\n",
    "\n",
    "# Allocate arrays to store the measurement results\n",
    "    currents = np.linspace(min_current, max_current, num=data_points)\n",
    "    voltages = np.zeros_like(currents)\n",
    "    voltage_stds = np.zeros_like(currents)\n",
    "    sleep(0.1)\n",
    "\n",
    "# Loop through each current point, measure and record the voltage\n",
    "    for i in range(data_points):\n",
    "        Keithley.start_buffer()\n",
    "        Keithley.source_current = currents[i]\n",
    "        sleep(0.1)\n",
    "    # Record the average voltage and standard deviation\n",
    "        voltages[i] = Keithley.voltage\n",
    "\n",
    "    res = np.polyfit(voltages,currents,1)\n",
    "    A = res[0]\n",
    "    B = res[1]\n",
    "    voltages = line(currents, A, B)\n",
    "    Rs = (A * 4.53236)*t \n",
    "    \n",
    "    Hall_Pi_Voltage_list.append(Hall_voltage)\n",
    "    Sheet_Resistance_List.append(Rs)\n",
    "    Keithley.reset()"
   ]
  },
  {
   "cell_type": "code",
   "execution_count": 17,
   "metadata": {},
   "outputs": [
    {
     "data": {
      "text/plain": [
       "[('-0.0339916344871\\n', 1.0448814429502056e-09),\n",
       " ('-0.0303891293274\\n', 1.0451211253236575e-09),\n",
       " ('-0.0241759404154\\n', 1.0450360677381249e-09),\n",
       " ('-0.0158950661296\\n', 1.0449411666513778e-09),\n",
       " ('-0.00772624858931\\n', 1.0441509590507235e-09),\n",
       " ('0.000634495930016\\n', 1.0449193618951746e-09),\n",
       " ('0.00881523440066\\n', 1.0449399197325807e-09),\n",
       " ('0.0152835312228\\n', 1.0449829309530738e-09),\n",
       " ('0.0186941094034\\n', 1.045597183116266e-09)]"
      ]
     },
     "execution_count": 17,
     "metadata": {},
     "output_type": "execute_result"
    }
   ],
   "source": [
    "zipped = list(zip(Hall_Pi_Voltage_list, Sheet_Resistance_List))\n",
    "zipped"
   ]
  },
  {
   "cell_type": "code",
   "execution_count": 20,
   "metadata": {},
   "outputs": [
    {
     "data": {
      "text/plain": [
       "[<matplotlib.lines.Line2D at 0x2574db9e850>]"
      ]
     },
     "execution_count": 20,
     "metadata": {},
     "output_type": "execute_result"
    },
    {
     "data": {
      "image/png": "[encoded data removed]",
      "text/plain": [
       "<Figure size 432x288 with 1 Axes>"
      ]
     },
     "metadata": {
      "needs_background": "light"
     },
     "output_type": "display_data"
    }
   ],
   "source": [
    "plt.plot(Hall_Pi_Voltage_list, Sheet_Resistance_List)"
   ]
  },
  {
   "cell_type": "code",
   "execution_count": 21,
   "metadata": {},
   "outputs": [
    {
     "name": "stdout",
     "output_type": "stream",
     "text": [
      "Parameters are equal to: \n",
      " 0.011534798461687357 \n",
      " -2.3838687177259963e-06\n"
     ]
    },
    {
     "data": {
      "image/png": "[encoded data removed]",
      "text/plain": [
       "<Figure size 432x288 with 1 Axes>"
      ]
     },
     "metadata": {
      "needs_background": "light"
     },
     "output_type": "display_data"
    }
   ],
   "source": [
    "def line(currents, A, B):\n",
    "    y = A*currents + B\n",
    "    return y\n",
    "\n",
    "parameters, cov = curve_fit(line, currents, voltages)\n",
    "\n",
    "fit_A, fit_B = parameters[0], parameters[1]\n",
    "\n",
    "print(\"Parameters are equal to: \\n\", fit_A, \"\\n\", fit_B)\n",
    "\n",
    "# Fit the data with found parameters\n",
    "fit_voltages = line(currents, fit_A, fit_B)\n",
    "\n",
    "# Plot the result of fitting\n",
    "plt.plot(currents, voltages, 'o', label='Raw_Data')\n",
    "plt.plot(currents, fit_voltages, '-', label='Fit')\n",
    "plt.legend()\n",
    "plt.xlabel(\"Current Amp\")\n",
    "plt.ylabel(\"Voltage Volts\")\n",
    "plt.title(\"20201211B_Fe_80W_40pGV_5min\")\n",
    "plt.show()"
   ]
  },
  {
   "cell_type": "code",
   "execution_count": 22,
   "metadata": {},
   "outputs": [
    {
     "name": "stdout",
     "output_type": "stream",
     "text": [
      "1.0455971831162661e-10 ohm cm\n"
     ]
    }
   ],
   "source": [
    "Rs =(fit_A*4.53236)*2e-9 \n",
    "print (Rs, 'ohm cm')"
   ]
  },
  {
   "cell_type": "code",
   "execution_count": null,
   "metadata": {},
   "outputs": [],
   "source": []
  }
 ],
 "metadata": {
  "kernelspec": {
   "display_name": "Python 3",
   "language": "python",
   "name": "python3"
  },
  "language_info": {
   "codemirror_mode": {
    "name": "ipython",
    "version": 3
   },
   "file_extension": ".py",
   "mimetype": "text/x-python",
   "name": "python",
   "nbconvert_exporter": "python",
   "pygments_lexer": "ipython3",
   "version": "3.8.3"
  },
  "latex_envs": {
   "LaTeX_envs_menu_present": true,
   "autoclose": false,
   "autocomplete": true,
   "bibliofile": "biblio.bib",
   "cite_by": "apalike",
   "current_citInitial": 1,
   "eqLabelWithNumbers": true,
   "eqNumInitial": 1,
   "hotkeys": {
    "equation": "Ctrl-E",
    "itemize": "Ctrl-I"
   },
   "labels_anchors": false,
   "latex_user_defs": false,
   "report_style_numbering": false,
   "user_envs_cfg": false
  },
  "toc": {
   "base_numbering": 1,
   "nav_menu": {},
   "number_sections": true,
   "sideBar": true,
   "skip_h1_title": false,
   "title_cell": "Table of Contents",
   "title_sidebar": "Contents",
   "toc_cell": false,
   "toc_position": {},
   "toc_section_display": true,
   "toc_window_display": false
  }
 },
 "nbformat": 4,
 "nbformat_minor": 4
}
